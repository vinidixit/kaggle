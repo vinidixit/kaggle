{
 "cells": [
  {
   "cell_type": "code",
   "execution_count": null,
   "metadata": {
    "_cell_guid": "b1076dfc-b9ad-4769-8c92-a6c4dae69d19",
    "_uuid": "8f2839f25d086af736a60e9eeb907d3b93b6e0e5"
   },
   "outputs": [],
   "source": [
    "# This Python 3 environment comes with many helpful analytics libraries installed\n",
    "# It is defined by the kaggle/python docker image: https://github.com/kaggle/docker-python\n",
    "# For example, here's several helpful packages to load in \n",
    "\n",
    "import numpy as np # linear algebra\n",
    "import pandas as pd # data processing, CSV file I/O (e.g. pd.read_csv)\n",
    "\n",
    "# Input data files are available in the \"../input/\" directory.\n",
    "# For example, running this (by clicking run or pressing Shift+Enter) will list the files in the input directory\n",
    "\n",
    "import os\n",
    "print(os.listdir(\"../input\"))\n",
    "\n",
    "# Any results you write to the current directory are saved as output."
   ]
  },
  {
   "cell_type": "code",
   "execution_count": null,
   "metadata": {
    "_cell_guid": "79c7e3d0-c299-4dcb-8224-4455121ee9b0",
    "_uuid": "d629ff2d2480ee46fbb7e2d37f6b5fab8052498a"
   },
   "outputs": [],
   "source": [
    "reviews_df = pd.read_csv('../input/Reviews.csv', usecols=['HelpfulnessNumerator','HelpfulnessDenominator','Score','Summary','Text'])\n",
    "print(reviews_df.shape)\n",
    "reviews_df.head()"
   ]
  },
  {
   "cell_type": "code",
   "execution_count": null,
   "metadata": {
    "_uuid": "47aab1d3c6df9d98f791319bc3d3c58e3d670f1f"
   },
   "outputs": [],
   "source": [
    "print(reviews_df.Summary.isnull().sum())\n",
    "reviews_df = reviews_df.dropna()\n",
    "print(reviews_df.Summary.isnull().sum())"
   ]
  },
  {
   "cell_type": "code",
   "execution_count": null,
   "metadata": {
    "_uuid": "ab689ffcc0656548c0be6658bcc56458bc243778"
   },
   "outputs": [],
   "source": [
    "reviews_df['Usefulness'] = (reviews_df['HelpfulnessNumerator']/reviews_df['HelpfulnessDenominator']).apply(lambda x:'useful' if x>0.8 else 'useless')\n",
    "reviews_df = reviews_df.iloc[:,2:]\n",
    "reviews_df = reviews_df[reviews_df.Score!=3]"
   ]
  },
  {
   "cell_type": "code",
   "execution_count": null,
   "metadata": {
    "_uuid": "66665125fa23807718060ac0c6e38c8c37679c4b",
    "scrolled": true
   },
   "outputs": [],
   "source": [
    "reviews_df['Score'] = reviews_df['Score'].apply(lambda x:'pos' if x>3 else 'neg')\n",
    "reviews_df.head()"
   ]
  },
  {
   "cell_type": "code",
   "execution_count": null,
   "metadata": {
    "_uuid": "e4d66348f4619754c891d5b2cfdd73e98db841b3"
   },
   "outputs": [],
   "source": [
    "reviews_df.Score.value_counts().plot(kind='bar')"
   ]
  },
  {
   "cell_type": "code",
   "execution_count": null,
   "metadata": {
    "_uuid": "622053b5a053773cf8dc9e5781f256bda7f3b224"
   },
   "outputs": [],
   "source": [
    "from sklearn.feature_extraction.text import CountVectorizer, TfidfTransformer\n",
    "vectorizer = CountVectorizer(min_df = 1, ngram_range = (1,4))\n",
    "X_train_counts = vectorizer.fit_transform(reviews_df.Summary[0:2])\n",
    "tfidf_transformer = TfidfTransformer()\n",
    "X_train_tfidf = tfidf_transformer.fit_transform(X_train_counts)"
   ]
  },
  {
   "cell_type": "code",
   "execution_count": null,
   "metadata": {
    "_uuid": "87c6871b458ed17370e2dc1c75493d74c796a3c0"
   },
   "outputs": [],
   "source": [
    "X_train_counts.todense()"
   ]
  },
  {
   "cell_type": "code",
   "execution_count": null,
   "metadata": {
    "_uuid": "32e0110c0fd1b110a61b46cc28b903d24a3ba7bc"
   },
   "outputs": [],
   "source": [
    "vectorizer.get_feature_names()"
   ]
  },
  {
   "cell_type": "code",
   "execution_count": null,
   "metadata": {
    "_uuid": "7d2945e22c4655a856ab5075b9fa828d8576e610"
   },
   "outputs": [],
   "source": [
    "print(len(vectorizer.get_feature_names()))\n",
    "print(len(X_train_counts.toarray()[0]))"
   ]
  },
  {
   "cell_type": "code",
   "execution_count": null,
   "metadata": {
    "_uuid": "f1fee48f4f094b9e551e3b59dc1080c72d2dbba9"
   },
   "outputs": [],
   "source": [
    "X_test = vectorizer.transform([reviews_df.Summary[3]])\n",
    "X_test.toarray()"
   ]
  },
  {
   "cell_type": "code",
   "execution_count": null,
   "metadata": {
    "_uuid": "f37635065d3b110717a8ffd5374f6f99cf9261f5"
   },
   "outputs": [],
   "source": [
    "import gensim\n",
    "gensim.__version__"
   ]
  },
  {
   "cell_type": "code",
   "execution_count": null,
   "metadata": {
    "_uuid": "e4b245dcd13d51b331530f5c3fbfecf2d0a03e64"
   },
   "outputs": [],
   "source": [
    "import re\n",
    "def preprocessing(content):\n",
    "    content = content.lower()\n",
    "    regex = re.compile('[^a-z]')\n",
    "    #First parameter is the replacement, second parameter is your input string\n",
    "    return regex.sub(' ', content).strip()"
   ]
  },
  {
   "cell_type": "code",
   "execution_count": null,
   "metadata": {
    "_uuid": "f4c9d4159f86ef15082f721496162a918998fe94",
    "scrolled": true
   },
   "outputs": [],
   "source": [
    "from nltk.tokenize import sent_tokenize, wordpunct_tokenize\n",
    "def getSentences(docs):\n",
    "    for doc in docs:\n",
    "        doc = preprocessing(doc)\n",
    "        for sent in sent_tokenize(doc):\n",
    "            yield wordpunct_tokenize(sent)\n",
    "print(reviews_df.Summary[0],'\\n', reviews_df.Summary[1])\n",
    "print('-'*10)\n",
    "for sent in getSentences(reviews_df.Summary[:10]):\n",
    "    print(sent)"
   ]
  },
  {
   "cell_type": "code",
   "execution_count": null,
   "metadata": {
    "_uuid": "4540a8304b9eb4422cf59630084d9f850985c54b"
   },
   "outputs": [],
   "source": [
    "from gensim.models import Word2Vec\n",
    "min_count = 1\n",
    "size = 5\n",
    "window = 3\n",
    "sentences = list(getSentences(reviews_df.Summary[:2]))\n",
    "model = Word2Vec(sentences, min_count=min_count, size=size, window=window)\n",
    "model.wv.vocab.keys()"
   ]
  },
  {
   "cell_type": "code",
   "execution_count": null,
   "metadata": {
    "_uuid": "85ff538ff47964160e0557f2c70e6b964d53f8ae"
   },
   "outputs": [],
   "source": [
    "#update model\n",
    "new_sentences = list(getSentences(reviews_df.Summary[3:4]))\n",
    "model.build_vocab(new_sentences, update=True)\n",
    "model.train(new_sentences, total_examples=model.corpus_count, epochs=model.epochs)\n"
   ]
  },
  {
   "cell_type": "code",
   "execution_count": null,
   "metadata": {
    "_uuid": "d976bced3ecde7a794fdeba9fb1628cbe9275b53"
   },
   "outputs": [],
   "source": [
    "model.wv.vocab.keys()"
   ]
  },
  {
   "cell_type": "code",
   "execution_count": null,
   "metadata": {
    "_uuid": "eceae81e20f890ebfd1327fe1f61bb4d9313716b"
   },
   "outputs": [],
   "source": [
    "from gensim.models.phrases import Phrases, Phraser\n",
    "sentences = list(getSentences(reviews_df.Summary[:2]))\n",
    "\n",
    "phrases = Phrases(sentences,\n",
    "                  min_count=2,\n",
    "                  threshold = 0.5, scoring = 'npmi')\n",
    "phrase_model = Phraser(phrases)\n",
    "phrases.vocab"
   ]
  },
  {
   "cell_type": "code",
   "execution_count": null,
   "metadata": {
    "_uuid": "4c43b7c7838cc127f46748c7410430325ac07642"
   },
   "outputs": [],
   "source": [
    "# Get all phrases and there scores in model\n",
    "sent_phrases = phrases.export_phrases(sentences)\n",
    "for p in sent_phrases:\n",
    "    print(p)"
   ]
  },
  {
   "cell_type": "code",
   "execution_count": null,
   "metadata": {
    "_uuid": "99eb5ed2dfa41f0265d740c6ea647e6a6d3253fc"
   },
   "outputs": [],
   "source": [
    "# Updating Phraser model\n",
    "#new_sentences = list(getSentences(reviews_df.Summary[3:4]))\n",
    "phrases.add_vocab(sentences)\n",
    "phrase_model = Phraser(phrases)\n",
    "# Get all phrases and there scores in model\n",
    "sent_phrases = phrases.export_phrases(sentences)\n",
    "for p in sent_phrases:\n",
    "    print(p)"
   ]
  },
  {
   "cell_type": "code",
   "execution_count": null,
   "metadata": {
    "_uuid": "fcaec44e0c0fd4b8ca59dab4cbb914261d53dc83"
   },
   "outputs": [],
   "source": [
    "def get_phrased_sentences(phrases_model, tokened_sentences):\n",
    "    for sentence in tokened_sentences: \n",
    "        yield phrases_model[sentence]\n",
    "\n",
    "for s in get_phrased_sentences(phrase_model, sentences):\n",
    "        print(s)"
   ]
  },
  {
   "cell_type": "code",
   "execution_count": null,
   "metadata": {
    "_uuid": "b09f275c379219a4333c90054ce771a6bfe2fa84"
   },
   "outputs": [],
   "source": [
    "# phrase2vec model\n",
    "min_count = 1\n",
    "size = 5\n",
    "window = 3\n",
    "sentences = list(get_phrased_sentences(phrase_model, reviews_df.Summary[:2]))\n",
    "phrase2vec_model = Word2Vec(sentences, min_count=min_count, size=size, window=window)\n",
    "phrase2vec_model.wv.vocab.keys()"
   ]
  },
  {
   "cell_type": "code",
   "execution_count": null,
   "metadata": {
    "_uuid": "a368ed78459a98bf0c8c7487da2917431258d936"
   },
   "outputs": [],
   "source": [
    "phrase2vec_model.wv.get_vector('good_quality')"
   ]
  },
  {
   "cell_type": "markdown",
   "metadata": {
    "_uuid": "07f9f396c04bc26ea6edd8c2159ff3e47988cbc3"
   },
   "source": [
    "# Phrase2vec model for whole corpus"
   ]
  },
  {
   "cell_type": "code",
   "execution_count": null,
   "metadata": {
    "_uuid": "7c1e7b0054fbe5f128a37ab10a9c37f7c7149bcb"
   },
   "outputs": [],
   "source": [
    "tokened_sentences = list(getSentences(reviews_df.Summary))"
   ]
  },
  {
   "cell_type": "code",
   "execution_count": null,
   "metadata": {
    "_uuid": "5f2dca20102276858e171cf410265d69eae597c9"
   },
   "outputs": [],
   "source": [
    "def get_phrases(sentences):\n",
    "    phrases = Phrases(sentences,\n",
    "                      min_count=2,\n",
    "                      threshold = 0.5, scoring='npmi')\n",
    "    return phrases"
   ]
  },
  {
   "cell_type": "code",
   "execution_count": null,
   "metadata": {
    "_uuid": "37075f2b5a0bb25cdcda6709a9bcd3c0d74d1903"
   },
   "outputs": [],
   "source": [
    "phrases_full = get_phrases(tokened_sentences)\n",
    "phrasemodel_full  = Phraser(phrases_full)"
   ]
  },
  {
   "cell_type": "code",
   "execution_count": null,
   "metadata": {
    "_uuid": "b8226a26fe1d4fec23ab6d5ede9858c73ef51f8b"
   },
   "outputs": [],
   "source": [
    "for p in phrases_full.export_phrases(tokened_sentences[:10]):\n",
    "    print(p)"
   ]
  },
  {
   "cell_type": "code",
   "execution_count": null,
   "metadata": {
    "_uuid": "6265c1a37ca0f6fd07ca75b03bd7868680ddb409"
   },
   "outputs": [],
   "source": [
    "tokened_sentences[:10]"
   ]
  },
  {
   "cell_type": "code",
   "execution_count": null,
   "metadata": {
    "_uuid": "64b7d825bc7314f067f4b99d44ccd15fb43cae29"
   },
   "outputs": [],
   "source": [
    "phrased_sentences = list(get_phrased_sentences(phrasemodel_full, tokened_sentences))"
   ]
  },
  {
   "cell_type": "code",
   "execution_count": null,
   "metadata": {
    "_uuid": "5e7f10c826981992f4edac24650cade23653283d"
   },
   "outputs": [],
   "source": [
    "min_count = 1\n",
    "size = 5\n",
    "window = 3\n",
    "phrase2vec_full = Word2Vec(phrased_sentences, min_count=min_count, size=size, window=window)\n",
    "phrase2vec_full.wv.vocab.keys()\n"
   ]
  },
  {
   "cell_type": "markdown",
   "metadata": {
    "_uuid": "2fc5aef0ada6e7f5ddae2ac62ae6e9fd825be9b8"
   },
   "source": [
    "# WordCloud"
   ]
  },
  {
   "cell_type": "code",
   "execution_count": null,
   "metadata": {
    "_uuid": "44fe3853eefc7ab7e1a57c4b397c7db68d08288f"
   },
   "outputs": [],
   "source": [
    "from wordcloud import WordCloud, STOPWORDS\n",
    "import matplotlib as mpl\n",
    "\n",
    "stopwords = set(STOPWORDS)\n",
    "\n",
    "#mpl.rcParams['figure.figsize']=(8.0,6.0)    #(6.0,4.0)\n",
    "mpl.rcParams['font.size']=12                #10 \n",
    "mpl.rcParams['savefig.dpi']=100             #72 \n",
    "mpl.rcParams['figure.subplot.bottom']=.1 \n",
    "\n",
    "\n",
    "def show_wordcloud(data, title = None):\n",
    "    wordcloud = WordCloud(\n",
    "        background_color='white',\n",
    "        stopwords=stopwords,\n",
    "        max_words=200,\n",
    "        max_font_size=40, \n",
    "        scale=3,\n",
    "        random_state=1 # chosen at random by flipping a coin; it was heads\n",
    "    ).generate(str(data))\n",
    "    \n",
    "    fig = plt.figure(1, figsize=(8, 8))\n",
    "    plt.axis('off')\n",
    "    if title: \n",
    "        fig.suptitle(title, fontsize=20)\n",
    "        fig.subplots_adjust(top=2.3)\n",
    "\n",
    "    plt.imshow(wordcloud)\n",
    "    plt.show()\n",
    "    \n",
    "show_wordcloud(reviews_df.Summary)"
   ]
  },
  {
   "cell_type": "code",
   "execution_count": null,
   "metadata": {
    "_uuid": "81725de1a0cf927a87721968e75659d4009c15f7"
   },
   "outputs": [],
   "source": []
  }
 ],
 "metadata": {
  "kernelspec": {
   "display_name": "Python 3",
   "language": "python",
   "name": "python3"
  },
  "language_info": {
   "codemirror_mode": {
    "name": "ipython",
    "version": 3
   },
   "file_extension": ".py",
   "mimetype": "text/x-python",
   "name": "python",
   "nbconvert_exporter": "python",
   "pygments_lexer": "ipython3",
   "version": "3.6.8"
  }
 },
 "nbformat": 4,
 "nbformat_minor": 1
}
